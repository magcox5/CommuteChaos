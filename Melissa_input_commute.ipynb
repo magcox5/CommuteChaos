{
 "cells": [
  {
   "cell_type": "code",
   "execution_count": 1,
   "metadata": {},
   "outputs": [],
   "source": [
    "%matplotlib inline\n"
   ]
  },
  {
   "cell_type": "code",
   "execution_count": 2,
   "metadata": {},
   "outputs": [],
   "source": [
    "# Dependencies\n",
    "import matplotlib.pyplot as plt\n",
    "import pandas as pd\n",
    "import numpy as np\n",
    "import requests\n",
    "import json\n",
    "import time\n",
    "# Google API Key\n",
    "from config import gkey\n",
    "import gmaps\n",
    "\n",
    "# Google developer API key\n",
    "from config import gkey\n",
    "\n",
    "# Configure gmaps\n",
    "gmaps.configure(api_key=gkey)"
   ]
  },
  {
   "cell_type": "code",
   "execution_count": 3,
   "metadata": {},
   "outputs": [],
   "source": [
    "# Create a list of times to find commute duration for\n",
    "times_list_to_work = [5,6,7,8,9,10,11,12]\n",
    "times_list_to_home = [13,14,15,16,17,18,19]\n",
    "dates_list = ['3/2/2020','3/3/2020','3/4/2020','3/5/2020','3/6/2020','3/7/2020','3/8/2020']\n",
    "home_location = 'Moffet Field'\n",
    "work_location = 'Salesforce Tower'\n"
   ]
  },
  {
   "cell_type": "code",
   "execution_count": 4,
   "metadata": {},
   "outputs": [],
   "source": [
    "# create a new list with combined dates/times into epoch time to be used to query database\n",
    "pattern = '%m/%d/%Y-%H'\n",
    "date_string = ''\n",
    "datetime_list_to_work = []\n",
    "datetime_list_to_home = []\n",
    "times_df = pd.DataFrame(columns=[\"Commute Date\", \"Commute Start\", \"Epoch Time\"])\n",
    "\n",
    "for date_in in dates_list:\n",
    "    \n",
    "    for time_in in times_list_to_work:\n",
    "        date_string = date_in + '-' + str(time_in)\n",
    "        epoch = int(time.mktime(time.strptime(date_string, pattern)))\n",
    "        datetime_list_to_work.append(epoch)\n",
    "        times_df = times_df.append({\n",
    "             \"Commute Date\": date_in,\n",
    "             \"Commute Start\": time_in,\n",
    "             \"Epoch Time\": epoch\n",
    "          }, ignore_index=True)\n",
    "        \n",
    "    for time_in in times_list_to_home:\n",
    "        date_string = date_in + '-' + str(time_in)\n",
    "        epoch = int(time.mktime(time.strptime(date_string, pattern)))\n",
    "        datetime_list_to_home.append(epoch)\n",
    "        times_df = times_df.append({\n",
    "             \"Commute Date\": date_in,\n",
    "             \"Commute Start\": time_in,\n",
    "             \"Epoch Time\": epoch\n",
    "          }, ignore_index=True)"
   ]
  },
  {
   "cell_type": "code",
   "execution_count": 5,
   "metadata": {},
   "outputs": [
    {
     "name": "stdout",
     "output_type": "stream",
     "text": [
      "[1583154000, 1583157600, 1583161200, 1583164800, 1583168400, 1583172000, 1583175600, 1583179200, 1583240400, 1583244000, 1583247600, 1583251200, 1583254800, 1583258400, 1583262000, 1583265600, 1583326800, 1583330400, 1583334000, 1583337600, 1583341200, 1583344800, 1583348400, 1583352000, 1583413200, 1583416800, 1583420400, 1583424000, 1583427600, 1583431200, 1583434800, 1583438400, 1583499600, 1583503200, 1583506800, 1583510400, 1583514000, 1583517600, 1583521200, 1583524800, 1583586000, 1583589600, 1583593200, 1583596800, 1583600400, 1583604000, 1583607600, 1583611200, 1583668800, 1583672400, 1583676000, 1583679600, 1583683200, 1583686800, 1583690400, 1583694000]\n",
      "[1583182800, 1583186400, 1583190000, 1583193600, 1583197200, 1583200800, 1583204400, 1583269200, 1583272800, 1583276400, 1583280000, 1583283600, 1583287200, 1583290800, 1583355600, 1583359200, 1583362800, 1583366400, 1583370000, 1583373600, 1583377200, 1583442000, 1583445600, 1583449200, 1583452800, 1583456400, 1583460000, 1583463600, 1583528400, 1583532000, 1583535600, 1583539200, 1583542800, 1583546400, 1583550000, 1583614800, 1583618400, 1583622000, 1583625600, 1583629200, 1583632800, 1583636400, 1583697600, 1583701200, 1583704800, 1583708400, 1583712000, 1583715600, 1583719200]\n"
     ]
    },
    {
     "data": {
      "text/html": [
       "<div>\n",
       "<style scoped>\n",
       "    .dataframe tbody tr th:only-of-type {\n",
       "        vertical-align: middle;\n",
       "    }\n",
       "\n",
       "    .dataframe tbody tr th {\n",
       "        vertical-align: top;\n",
       "    }\n",
       "\n",
       "    .dataframe thead th {\n",
       "        text-align: right;\n",
       "    }\n",
       "</style>\n",
       "<table border=\"1\" class=\"dataframe\">\n",
       "  <thead>\n",
       "    <tr style=\"text-align: right;\">\n",
       "      <th></th>\n",
       "      <th>Commute Date</th>\n",
       "      <th>Commute Start</th>\n",
       "      <th>Epoch Time</th>\n",
       "    </tr>\n",
       "  </thead>\n",
       "  <tbody>\n",
       "    <tr>\n",
       "      <td>0</td>\n",
       "      <td>3/2/2020</td>\n",
       "      <td>5</td>\n",
       "      <td>1583154000</td>\n",
       "    </tr>\n",
       "    <tr>\n",
       "      <td>1</td>\n",
       "      <td>3/2/2020</td>\n",
       "      <td>6</td>\n",
       "      <td>1583157600</td>\n",
       "    </tr>\n",
       "    <tr>\n",
       "      <td>2</td>\n",
       "      <td>3/2/2020</td>\n",
       "      <td>7</td>\n",
       "      <td>1583161200</td>\n",
       "    </tr>\n",
       "    <tr>\n",
       "      <td>3</td>\n",
       "      <td>3/2/2020</td>\n",
       "      <td>8</td>\n",
       "      <td>1583164800</td>\n",
       "    </tr>\n",
       "    <tr>\n",
       "      <td>4</td>\n",
       "      <td>3/2/2020</td>\n",
       "      <td>9</td>\n",
       "      <td>1583168400</td>\n",
       "    </tr>\n",
       "    <tr>\n",
       "      <td>...</td>\n",
       "      <td>...</td>\n",
       "      <td>...</td>\n",
       "      <td>...</td>\n",
       "    </tr>\n",
       "    <tr>\n",
       "      <td>100</td>\n",
       "      <td>3/8/2020</td>\n",
       "      <td>15</td>\n",
       "      <td>1583704800</td>\n",
       "    </tr>\n",
       "    <tr>\n",
       "      <td>101</td>\n",
       "      <td>3/8/2020</td>\n",
       "      <td>16</td>\n",
       "      <td>1583708400</td>\n",
       "    </tr>\n",
       "    <tr>\n",
       "      <td>102</td>\n",
       "      <td>3/8/2020</td>\n",
       "      <td>17</td>\n",
       "      <td>1583712000</td>\n",
       "    </tr>\n",
       "    <tr>\n",
       "      <td>103</td>\n",
       "      <td>3/8/2020</td>\n",
       "      <td>18</td>\n",
       "      <td>1583715600</td>\n",
       "    </tr>\n",
       "    <tr>\n",
       "      <td>104</td>\n",
       "      <td>3/8/2020</td>\n",
       "      <td>19</td>\n",
       "      <td>1583719200</td>\n",
       "    </tr>\n",
       "  </tbody>\n",
       "</table>\n",
       "<p>105 rows × 3 columns</p>\n",
       "</div>"
      ],
      "text/plain": [
       "    Commute Date Commute Start  Epoch Time\n",
       "0       3/2/2020             5  1583154000\n",
       "1       3/2/2020             6  1583157600\n",
       "2       3/2/2020             7  1583161200\n",
       "3       3/2/2020             8  1583164800\n",
       "4       3/2/2020             9  1583168400\n",
       "..           ...           ...         ...\n",
       "100     3/8/2020            15  1583704800\n",
       "101     3/8/2020            16  1583708400\n",
       "102     3/8/2020            17  1583712000\n",
       "103     3/8/2020            18  1583715600\n",
       "104     3/8/2020            19  1583719200\n",
       "\n",
       "[105 rows x 3 columns]"
      ]
     },
     "execution_count": 5,
     "metadata": {},
     "output_type": "execute_result"
    }
   ],
   "source": [
    "print(datetime_list_to_work)\n",
    "print(datetime_list_to_home)\n",
    "times_df "
   ]
  },
  {
   "cell_type": "code",
   "execution_count": 6,
   "metadata": {},
   "outputs": [],
   "source": [
    "def get_commute_times(start_point, end_point, datetime_list):\n",
    "    # Base info for google maps direction request\n",
    "    # create a params dict that will be updated for each date/time\n",
    "    params = {\"key\": gkey}\n",
    "    base_url = \"https://maps.googleapis.com/maps/api/directions/json\"\n",
    "    params['mode'] = 'driving'\n",
    "    params['origin'] = start_point\n",
    "    params['destination'] = end_point\n",
    "\n",
    "    # Create dictionary to store {date_time: commute_time}\n",
    "    commute_dict = {}\n",
    "    \n",
    "    # Loop through the date/times to get the period you are going to search for\n",
    "    for commute_start in datetime_list:\n",
    "\n",
    "        # update address key value\n",
    "        params['departure_time'] = commute_start\n",
    "\n",
    "        # make request\n",
    "        commute_info = requests.get(base_url, params=params)\n",
    "    \n",
    "        # convert to json\n",
    "        commute_info = commute_info.json()\n",
    "    \n",
    "        commute_time_legs = commute_info['routes'][0]['legs']\n",
    "        total_route_time = 0\n",
    "        for c_time in commute_time_legs:\n",
    "            total_route_time = total_route_time + c_time['duration_in_traffic']['value']\n",
    "\n",
    "        commute_dict[commute_start] = total_route_time\n",
    "        time_here = time.strftime('%Y-%m-%d %H:%M:%S', time.localtime(commute_start))\n",
    "        # print(f\"Commute duration from {start_point} to {end_point} for {time_here} = {total_route_time/60} minutes\")\n",
    "\n",
    "        \n",
    "    return commute_dict\n",
    "\n"
   ]
  },
  {
   "cell_type": "code",
   "execution_count": 7,
   "metadata": {},
   "outputs": [],
   "source": [
    "# Get commute times for going to work\n",
    "commute_to_work_dict = get_commute_times(home_location, work_location, datetime_list_to_work)"
   ]
  },
  {
   "cell_type": "code",
   "execution_count": 8,
   "metadata": {},
   "outputs": [],
   "source": [
    "#commute_to_work_dict"
   ]
  },
  {
   "cell_type": "code",
   "execution_count": 9,
   "metadata": {},
   "outputs": [
    {
     "data": {
      "text/html": [
       "<div>\n",
       "<style scoped>\n",
       "    .dataframe tbody tr th:only-of-type {\n",
       "        vertical-align: middle;\n",
       "    }\n",
       "\n",
       "    .dataframe tbody tr th {\n",
       "        vertical-align: top;\n",
       "    }\n",
       "\n",
       "    .dataframe thead th {\n",
       "        text-align: right;\n",
       "    }\n",
       "</style>\n",
       "<table border=\"1\" class=\"dataframe\">\n",
       "  <thead>\n",
       "    <tr style=\"text-align: right;\">\n",
       "      <th></th>\n",
       "      <th>Commute Time</th>\n",
       "    </tr>\n",
       "    <tr>\n",
       "      <th>Epoch Time</th>\n",
       "      <th></th>\n",
       "    </tr>\n",
       "  </thead>\n",
       "  <tbody>\n",
       "    <tr>\n",
       "      <td>1583154000</td>\n",
       "      <td>2500</td>\n",
       "    </tr>\n",
       "    <tr>\n",
       "      <td>1583157600</td>\n",
       "      <td>2772</td>\n",
       "    </tr>\n",
       "    <tr>\n",
       "      <td>1583161200</td>\n",
       "      <td>3870</td>\n",
       "    </tr>\n",
       "    <tr>\n",
       "      <td>1583164800</td>\n",
       "      <td>4416</td>\n",
       "    </tr>\n",
       "    <tr>\n",
       "      <td>1583168400</td>\n",
       "      <td>3781</td>\n",
       "    </tr>\n",
       "  </tbody>\n",
       "</table>\n",
       "</div>"
      ],
      "text/plain": [
       "            Commute Time\n",
       "Epoch Time              \n",
       "1583154000          2500\n",
       "1583157600          2772\n",
       "1583161200          3870\n",
       "1583164800          4416\n",
       "1583168400          3781"
      ]
     },
     "execution_count": 9,
     "metadata": {},
     "output_type": "execute_result"
    }
   ],
   "source": [
    "# Create dataframe to store commute data to work\n",
    "commute_to_work_df = pd.DataFrame.from_dict(commute_to_work_dict, orient='index', columns=['Commute Time'])\n",
    "commute_to_work_df.index.name = 'Epoch Time'\n",
    "commute_to_work_df.head()"
   ]
  },
  {
   "cell_type": "code",
   "execution_count": 10,
   "metadata": {
    "scrolled": false
   },
   "outputs": [],
   "source": [
    "# Get commute times for going home\n",
    "commute_to_home_dict = get_commute_times(work_location, home_location, datetime_list_to_home)"
   ]
  },
  {
   "cell_type": "code",
   "execution_count": 11,
   "metadata": {},
   "outputs": [],
   "source": [
    "#commute_to_home_dict "
   ]
  },
  {
   "cell_type": "code",
   "execution_count": 12,
   "metadata": {
    "scrolled": false
   },
   "outputs": [
    {
     "data": {
      "text/html": [
       "<div>\n",
       "<style scoped>\n",
       "    .dataframe tbody tr th:only-of-type {\n",
       "        vertical-align: middle;\n",
       "    }\n",
       "\n",
       "    .dataframe tbody tr th {\n",
       "        vertical-align: top;\n",
       "    }\n",
       "\n",
       "    .dataframe thead th {\n",
       "        text-align: right;\n",
       "    }\n",
       "</style>\n",
       "<table border=\"1\" class=\"dataframe\">\n",
       "  <thead>\n",
       "    <tr style=\"text-align: right;\">\n",
       "      <th></th>\n",
       "      <th>Commute Time</th>\n",
       "    </tr>\n",
       "    <tr>\n",
       "      <th>Epoch Time</th>\n",
       "      <th></th>\n",
       "    </tr>\n",
       "  </thead>\n",
       "  <tbody>\n",
       "    <tr>\n",
       "      <td>1583182800</td>\n",
       "      <td>2913</td>\n",
       "    </tr>\n",
       "    <tr>\n",
       "      <td>1583186400</td>\n",
       "      <td>3194</td>\n",
       "    </tr>\n",
       "    <tr>\n",
       "      <td>1583190000</td>\n",
       "      <td>3530</td>\n",
       "    </tr>\n",
       "    <tr>\n",
       "      <td>1583193600</td>\n",
       "      <td>3671</td>\n",
       "    </tr>\n",
       "    <tr>\n",
       "      <td>1583197200</td>\n",
       "      <td>4039</td>\n",
       "    </tr>\n",
       "  </tbody>\n",
       "</table>\n",
       "</div>"
      ],
      "text/plain": [
       "            Commute Time\n",
       "Epoch Time              \n",
       "1583182800          2913\n",
       "1583186400          3194\n",
       "1583190000          3530\n",
       "1583193600          3671\n",
       "1583197200          4039"
      ]
     },
     "execution_count": 12,
     "metadata": {},
     "output_type": "execute_result"
    }
   ],
   "source": [
    "# Create dataframe to store commute data to home\n",
    "commute_to_home_df = pd.DataFrame.from_dict(commute_to_home_dict, orient='index', columns=['Commute Time'])\n",
    "commute_to_home_df.index.name = 'Epoch Time'\n",
    "commute_to_home_df.head()"
   ]
  },
  {
   "cell_type": "code",
   "execution_count": 13,
   "metadata": {
    "scrolled": false
   },
   "outputs": [
    {
     "data": {
      "text/html": [
       "<div>\n",
       "<style scoped>\n",
       "    .dataframe tbody tr th:only-of-type {\n",
       "        vertical-align: middle;\n",
       "    }\n",
       "\n",
       "    .dataframe tbody tr th {\n",
       "        vertical-align: top;\n",
       "    }\n",
       "\n",
       "    .dataframe thead th {\n",
       "        text-align: right;\n",
       "    }\n",
       "</style>\n",
       "<table border=\"1\" class=\"dataframe\">\n",
       "  <thead>\n",
       "    <tr style=\"text-align: right;\">\n",
       "      <th></th>\n",
       "      <th>Epoch Time</th>\n",
       "      <th>Commute Time</th>\n",
       "      <th>Commute Date</th>\n",
       "      <th>Commute Start</th>\n",
       "    </tr>\n",
       "  </thead>\n",
       "  <tbody>\n",
       "    <tr>\n",
       "      <td>0</td>\n",
       "      <td>1583154000</td>\n",
       "      <td>2500</td>\n",
       "      <td>3/2/2020</td>\n",
       "      <td>5</td>\n",
       "    </tr>\n",
       "    <tr>\n",
       "      <td>1</td>\n",
       "      <td>1583157600</td>\n",
       "      <td>2772</td>\n",
       "      <td>3/2/2020</td>\n",
       "      <td>6</td>\n",
       "    </tr>\n",
       "    <tr>\n",
       "      <td>2</td>\n",
       "      <td>1583161200</td>\n",
       "      <td>3870</td>\n",
       "      <td>3/2/2020</td>\n",
       "      <td>7</td>\n",
       "    </tr>\n",
       "    <tr>\n",
       "      <td>3</td>\n",
       "      <td>1583164800</td>\n",
       "      <td>4416</td>\n",
       "      <td>3/2/2020</td>\n",
       "      <td>8</td>\n",
       "    </tr>\n",
       "    <tr>\n",
       "      <td>4</td>\n",
       "      <td>1583168400</td>\n",
       "      <td>3781</td>\n",
       "      <td>3/2/2020</td>\n",
       "      <td>9</td>\n",
       "    </tr>\n",
       "  </tbody>\n",
       "</table>\n",
       "</div>"
      ],
      "text/plain": [
       "   Epoch Time  Commute Time Commute Date Commute Start\n",
       "0  1583154000          2500     3/2/2020             5\n",
       "1  1583157600          2772     3/2/2020             6\n",
       "2  1583161200          3870     3/2/2020             7\n",
       "3  1583164800          4416     3/2/2020             8\n",
       "4  1583168400          3781     3/2/2020             9"
      ]
     },
     "execution_count": 13,
     "metadata": {},
     "output_type": "execute_result"
    }
   ],
   "source": [
    "commute_to_work_df = pd.merge(commute_to_work_df,\n",
    "                 times_df[['Commute Date', 'Commute Start', 'Epoch Time']],\n",
    "                 on='Epoch Time')\n",
    "commute_to_work_df.head()\n"
   ]
  },
  {
   "cell_type": "code",
   "execution_count": 14,
   "metadata": {},
   "outputs": [
    {
     "data": {
      "text/html": [
       "<div>\n",
       "<style scoped>\n",
       "    .dataframe tbody tr th:only-of-type {\n",
       "        vertical-align: middle;\n",
       "    }\n",
       "\n",
       "    .dataframe tbody tr th {\n",
       "        vertical-align: top;\n",
       "    }\n",
       "\n",
       "    .dataframe thead th {\n",
       "        text-align: right;\n",
       "    }\n",
       "</style>\n",
       "<table border=\"1\" class=\"dataframe\">\n",
       "  <thead>\n",
       "    <tr style=\"text-align: right;\">\n",
       "      <th></th>\n",
       "      <th>Epoch Time</th>\n",
       "      <th>Commute Time</th>\n",
       "      <th>Commute Date</th>\n",
       "      <th>Commute Start</th>\n",
       "    </tr>\n",
       "  </thead>\n",
       "  <tbody>\n",
       "    <tr>\n",
       "      <td>0</td>\n",
       "      <td>1583182800</td>\n",
       "      <td>2913</td>\n",
       "      <td>3/2/2020</td>\n",
       "      <td>13</td>\n",
       "    </tr>\n",
       "    <tr>\n",
       "      <td>1</td>\n",
       "      <td>1583186400</td>\n",
       "      <td>3194</td>\n",
       "      <td>3/2/2020</td>\n",
       "      <td>14</td>\n",
       "    </tr>\n",
       "    <tr>\n",
       "      <td>2</td>\n",
       "      <td>1583190000</td>\n",
       "      <td>3530</td>\n",
       "      <td>3/2/2020</td>\n",
       "      <td>15</td>\n",
       "    </tr>\n",
       "    <tr>\n",
       "      <td>3</td>\n",
       "      <td>1583193600</td>\n",
       "      <td>3671</td>\n",
       "      <td>3/2/2020</td>\n",
       "      <td>16</td>\n",
       "    </tr>\n",
       "    <tr>\n",
       "      <td>4</td>\n",
       "      <td>1583197200</td>\n",
       "      <td>4039</td>\n",
       "      <td>3/2/2020</td>\n",
       "      <td>17</td>\n",
       "    </tr>\n",
       "  </tbody>\n",
       "</table>\n",
       "</div>"
      ],
      "text/plain": [
       "   Epoch Time  Commute Time Commute Date Commute Start\n",
       "0  1583182800          2913     3/2/2020            13\n",
       "1  1583186400          3194     3/2/2020            14\n",
       "2  1583190000          3530     3/2/2020            15\n",
       "3  1583193600          3671     3/2/2020            16\n",
       "4  1583197200          4039     3/2/2020            17"
      ]
     },
     "execution_count": 14,
     "metadata": {},
     "output_type": "execute_result"
    }
   ],
   "source": [
    "commute_to_home_df = pd.merge(commute_to_home_df,\n",
    "                 times_df[['Commute Date', 'Commute Start', 'Epoch Time']],\n",
    "                 on='Epoch Time')\n",
    "commute_to_home_df.head()\n"
   ]
  },
  {
   "cell_type": "code",
   "execution_count": 15,
   "metadata": {},
   "outputs": [
    {
     "data": {
      "text/html": [
       "<div>\n",
       "<style scoped>\n",
       "    .dataframe tbody tr th:only-of-type {\n",
       "        vertical-align: middle;\n",
       "    }\n",
       "\n",
       "    .dataframe tbody tr th {\n",
       "        vertical-align: top;\n",
       "    }\n",
       "\n",
       "    .dataframe thead th {\n",
       "        text-align: right;\n",
       "    }\n",
       "</style>\n",
       "<table border=\"1\" class=\"dataframe\">\n",
       "  <thead>\n",
       "    <tr style=\"text-align: right;\">\n",
       "      <th></th>\n",
       "      <th>Epoch Time</th>\n",
       "      <th>Commute Time</th>\n",
       "      <th>Commute Date</th>\n",
       "      <th>Commute Start</th>\n",
       "      <th>Commute Name</th>\n",
       "    </tr>\n",
       "  </thead>\n",
       "  <tbody>\n",
       "    <tr>\n",
       "      <td>0</td>\n",
       "      <td>1583154000</td>\n",
       "      <td>2500</td>\n",
       "      <td>3/2/2020</td>\n",
       "      <td>5</td>\n",
       "      <td>Moffet Field to Salesforce Tower</td>\n",
       "    </tr>\n",
       "    <tr>\n",
       "      <td>1</td>\n",
       "      <td>1583157600</td>\n",
       "      <td>2772</td>\n",
       "      <td>3/2/2020</td>\n",
       "      <td>6</td>\n",
       "      <td>Moffet Field to Salesforce Tower</td>\n",
       "    </tr>\n",
       "    <tr>\n",
       "      <td>2</td>\n",
       "      <td>1583161200</td>\n",
       "      <td>3870</td>\n",
       "      <td>3/2/2020</td>\n",
       "      <td>7</td>\n",
       "      <td>Moffet Field to Salesforce Tower</td>\n",
       "    </tr>\n",
       "    <tr>\n",
       "      <td>3</td>\n",
       "      <td>1583164800</td>\n",
       "      <td>4416</td>\n",
       "      <td>3/2/2020</td>\n",
       "      <td>8</td>\n",
       "      <td>Moffet Field to Salesforce Tower</td>\n",
       "    </tr>\n",
       "    <tr>\n",
       "      <td>4</td>\n",
       "      <td>1583168400</td>\n",
       "      <td>3781</td>\n",
       "      <td>3/2/2020</td>\n",
       "      <td>9</td>\n",
       "      <td>Moffet Field to Salesforce Tower</td>\n",
       "    </tr>\n",
       "  </tbody>\n",
       "</table>\n",
       "</div>"
      ],
      "text/plain": [
       "   Epoch Time  Commute Time Commute Date Commute Start  \\\n",
       "0  1583154000          2500     3/2/2020             5   \n",
       "1  1583157600          2772     3/2/2020             6   \n",
       "2  1583161200          3870     3/2/2020             7   \n",
       "3  1583164800          4416     3/2/2020             8   \n",
       "4  1583168400          3781     3/2/2020             9   \n",
       "\n",
       "                       Commute Name  \n",
       "0  Moffet Field to Salesforce Tower  \n",
       "1  Moffet Field to Salesforce Tower  \n",
       "2  Moffet Field to Salesforce Tower  \n",
       "3  Moffet Field to Salesforce Tower  \n",
       "4  Moffet Field to Salesforce Tower  "
      ]
     },
     "execution_count": 15,
     "metadata": {},
     "output_type": "execute_result"
    }
   ],
   "source": [
    "# Add Commute To/From info as a column\n",
    "commute_to_work_df['Commute Name'] = f\"{home_location } to {work_location}\"\n",
    "commute_to_work_df.head()"
   ]
  },
  {
   "cell_type": "code",
   "execution_count": 16,
   "metadata": {},
   "outputs": [
    {
     "data": {
      "text/html": [
       "<div>\n",
       "<style scoped>\n",
       "    .dataframe tbody tr th:only-of-type {\n",
       "        vertical-align: middle;\n",
       "    }\n",
       "\n",
       "    .dataframe tbody tr th {\n",
       "        vertical-align: top;\n",
       "    }\n",
       "\n",
       "    .dataframe thead th {\n",
       "        text-align: right;\n",
       "    }\n",
       "</style>\n",
       "<table border=\"1\" class=\"dataframe\">\n",
       "  <thead>\n",
       "    <tr style=\"text-align: right;\">\n",
       "      <th></th>\n",
       "      <th>Epoch Time</th>\n",
       "      <th>Commute Time</th>\n",
       "      <th>Commute Date</th>\n",
       "      <th>Commute Start</th>\n",
       "      <th>Commute Name</th>\n",
       "    </tr>\n",
       "  </thead>\n",
       "  <tbody>\n",
       "    <tr>\n",
       "      <td>0</td>\n",
       "      <td>1583154000</td>\n",
       "      <td>2500</td>\n",
       "      <td>3/2/2020</td>\n",
       "      <td>5</td>\n",
       "      <td>Moffet Field to Salesforce Tower</td>\n",
       "    </tr>\n",
       "    <tr>\n",
       "      <td>1</td>\n",
       "      <td>1583157600</td>\n",
       "      <td>2772</td>\n",
       "      <td>3/2/2020</td>\n",
       "      <td>6</td>\n",
       "      <td>Moffet Field to Salesforce Tower</td>\n",
       "    </tr>\n",
       "    <tr>\n",
       "      <td>2</td>\n",
       "      <td>1583161200</td>\n",
       "      <td>3870</td>\n",
       "      <td>3/2/2020</td>\n",
       "      <td>7</td>\n",
       "      <td>Moffet Field to Salesforce Tower</td>\n",
       "    </tr>\n",
       "    <tr>\n",
       "      <td>3</td>\n",
       "      <td>1583164800</td>\n",
       "      <td>4416</td>\n",
       "      <td>3/2/2020</td>\n",
       "      <td>8</td>\n",
       "      <td>Moffet Field to Salesforce Tower</td>\n",
       "    </tr>\n",
       "    <tr>\n",
       "      <td>4</td>\n",
       "      <td>1583168400</td>\n",
       "      <td>3781</td>\n",
       "      <td>3/2/2020</td>\n",
       "      <td>9</td>\n",
       "      <td>Moffet Field to Salesforce Tower</td>\n",
       "    </tr>\n",
       "  </tbody>\n",
       "</table>\n",
       "</div>"
      ],
      "text/plain": [
       "   Epoch Time  Commute Time Commute Date Commute Start  \\\n",
       "0  1583154000          2500     3/2/2020             5   \n",
       "1  1583157600          2772     3/2/2020             6   \n",
       "2  1583161200          3870     3/2/2020             7   \n",
       "3  1583164800          4416     3/2/2020             8   \n",
       "4  1583168400          3781     3/2/2020             9   \n",
       "\n",
       "                       Commute Name  \n",
       "0  Moffet Field to Salesforce Tower  \n",
       "1  Moffet Field to Salesforce Tower  \n",
       "2  Moffet Field to Salesforce Tower  \n",
       "3  Moffet Field to Salesforce Tower  \n",
       "4  Moffet Field to Salesforce Tower  "
      ]
     },
     "execution_count": 16,
     "metadata": {},
     "output_type": "execute_result"
    }
   ],
   "source": [
    "# Add Commute To/From info as a column\n",
    "commute_to_work_df['Commute Name'] = f\"{home_location} to {work_location}\"\n",
    "commute_to_work_df.head()"
   ]
  },
  {
   "cell_type": "code",
   "execution_count": 17,
   "metadata": {},
   "outputs": [
    {
     "data": {
      "text/html": [
       "<div>\n",
       "<style scoped>\n",
       "    .dataframe tbody tr th:only-of-type {\n",
       "        vertical-align: middle;\n",
       "    }\n",
       "\n",
       "    .dataframe tbody tr th {\n",
       "        vertical-align: top;\n",
       "    }\n",
       "\n",
       "    .dataframe thead th {\n",
       "        text-align: right;\n",
       "    }\n",
       "</style>\n",
       "<table border=\"1\" class=\"dataframe\">\n",
       "  <thead>\n",
       "    <tr style=\"text-align: right;\">\n",
       "      <th></th>\n",
       "      <th>Epoch Time</th>\n",
       "      <th>Commute Time</th>\n",
       "      <th>Commute Date</th>\n",
       "      <th>Commute Start</th>\n",
       "      <th>Commute Name</th>\n",
       "    </tr>\n",
       "  </thead>\n",
       "  <tbody>\n",
       "    <tr>\n",
       "      <td>0</td>\n",
       "      <td>1583182800</td>\n",
       "      <td>2913</td>\n",
       "      <td>3/2/2020</td>\n",
       "      <td>13</td>\n",
       "      <td>Salesforce Tower to Moffet Field</td>\n",
       "    </tr>\n",
       "    <tr>\n",
       "      <td>1</td>\n",
       "      <td>1583186400</td>\n",
       "      <td>3194</td>\n",
       "      <td>3/2/2020</td>\n",
       "      <td>14</td>\n",
       "      <td>Salesforce Tower to Moffet Field</td>\n",
       "    </tr>\n",
       "    <tr>\n",
       "      <td>2</td>\n",
       "      <td>1583190000</td>\n",
       "      <td>3530</td>\n",
       "      <td>3/2/2020</td>\n",
       "      <td>15</td>\n",
       "      <td>Salesforce Tower to Moffet Field</td>\n",
       "    </tr>\n",
       "    <tr>\n",
       "      <td>3</td>\n",
       "      <td>1583193600</td>\n",
       "      <td>3671</td>\n",
       "      <td>3/2/2020</td>\n",
       "      <td>16</td>\n",
       "      <td>Salesforce Tower to Moffet Field</td>\n",
       "    </tr>\n",
       "    <tr>\n",
       "      <td>4</td>\n",
       "      <td>1583197200</td>\n",
       "      <td>4039</td>\n",
       "      <td>3/2/2020</td>\n",
       "      <td>17</td>\n",
       "      <td>Salesforce Tower to Moffet Field</td>\n",
       "    </tr>\n",
       "  </tbody>\n",
       "</table>\n",
       "</div>"
      ],
      "text/plain": [
       "   Epoch Time  Commute Time Commute Date Commute Start  \\\n",
       "0  1583182800          2913     3/2/2020            13   \n",
       "1  1583186400          3194     3/2/2020            14   \n",
       "2  1583190000          3530     3/2/2020            15   \n",
       "3  1583193600          3671     3/2/2020            16   \n",
       "4  1583197200          4039     3/2/2020            17   \n",
       "\n",
       "                       Commute Name  \n",
       "0  Salesforce Tower to Moffet Field  \n",
       "1  Salesforce Tower to Moffet Field  \n",
       "2  Salesforce Tower to Moffet Field  \n",
       "3  Salesforce Tower to Moffet Field  \n",
       "4  Salesforce Tower to Moffet Field  "
      ]
     },
     "execution_count": 17,
     "metadata": {},
     "output_type": "execute_result"
    }
   ],
   "source": [
    "commute_to_home_df['Commute Name'] = f\"{work_location} to {home_location}\"\n",
    "commute_to_home_df.head()\n",
    "\n"
   ]
  },
  {
   "cell_type": "code",
   "execution_count": 45,
   "metadata": {},
   "outputs": [
    {
     "data": {
      "image/png": "[encoded data removed]",
      "text/plain": [
       "<Figure size 432x288 with 1 Axes>"
      ]
     },
     "metadata": {
      "needs_background": "light"
     },
     "output_type": "display_data"
    }
   ],
   "source": [
    "#Convert the seconds to minutes on commute \n",
    "commute_to_work_df['Minutes'] = commute_to_work_df['Commute Time']/60\n",
    "days_of_week = ['Monday','Tuesday', 'Wednesday','Thursday','Friday','Saturday','Sunday']\n",
    "# Split up our data into groups based upon 'date'\n",
    "work_group = commute_to_work_df.groupby('Commute Date')\n",
    "# Find out how long each day took \n",
    "work_trips = work_group['Minutes'].mean()\n",
    "# Drop the 'stoptime' row that is contained within our group\n",
    "#gender_trips = gender_trips.drop(gender_trips.index[3])\n",
    "# Chart our data, give it a title, and label the axes\n",
    "work_chart = work_trips.plot(kind=\"bar\", title=\"Commute Duration by Date (AM)\", color ='orange', rot=45)\n",
    "work_chart.set_xlabel(\"Dates\")\n",
    "work_chart.set_ylabel(\"Duration (in minutes)\")\n",
    "work_chart.grid(b=True)\n",
    "work_chart.set_xticklabels(days_of_week)\n",
    "\n",
    "# Create a bar chart based upon the above data\n",
    "plt.show()"
   ]
  },
  {
   "cell_type": "code",
   "execution_count": 47,
   "metadata": {},
   "outputs": [
    {
     "data": {
      "image/png": "[encoded data removed]",
      "text/plain": [
       "<Figure size 432x288 with 1 Axes>"
      ]
     },
     "metadata": {
      "needs_background": "light"
     },
     "output_type": "display_data"
    }
   ],
   "source": [
    "#Convert the seconds to minutes on commute \n",
    "commute_to_home_df['Minutes'] = commute_to_home_df['Commute Time']/60\n",
    "\n",
    "#Split up our data into groups based upon 'date'\n",
    "home_group = commute_to_home_df.groupby('Commute Date')\n",
    "\n",
    "# Find out how long each day took \n",
    "home_trips = home_group['Minutes'].mean()\n",
    "\n",
    "# Drop the 'stoptime' row that is contained within our group\n",
    "#gender_trips = gender_trips.drop(gender_trips.index[3])\n",
    "\n",
    "# Chart our data, give it a title, and label the axes\n",
    "home_chart = home_trips.plot(kind=\"bar\", title=\"Salesforce Tower to Moffet Field Commute (PM)\", rot = 45)\n",
    "home_chart.set_xlabel(\"Dates\")\n",
    "home_chart.set_ylabel(\"Minutes\")\n",
    "home_chart.grid(b=True)\n",
    "home_chart.set_xticklabels(days_of_week)\n",
    "\n",
    "# Create a bar chart based upon the above data\n",
    "plt.show()"
   ]
  },
  {
   "cell_type": "code",
   "execution_count": 20,
   "metadata": {},
   "outputs": [
    {
     "data": {
      "text/plain": [
       "array([56.65238095, 62.68095238, 60.56428571, 64.06904762, 60.21666667,\n",
       "       49.74047619, 47.61190476])"
      ]
     },
     "execution_count": 20,
     "metadata": {},
     "output_type": "execute_result"
    }
   ],
   "source": [
    "#Convert the seconds to minutes on commute \n",
    "commute_to_home_df['Minutes'] = commute_to_home_df['Commute Time']/60\n",
    "\n",
    "#Split up our data into groups based upon 'date'\n",
    "home_group = commute_to_home_df.groupby('Commute Date')\n",
    "\n",
    "# Find out how long each day took \n",
    "home_trips = home_group['Minutes'].mean()\n",
    "\n",
    "home_trips.values"
   ]
  },
  {
   "cell_type": "code",
   "execution_count": 21,
   "metadata": {},
   "outputs": [
    {
     "data": {
      "image/png": "[encoded data removed]",
      "text/plain": [
       "<Figure size 432x288 with 1 Axes>"
      ]
     },
     "metadata": {
      "needs_background": "light"
     },
     "output_type": "display_data"
    }
   ],
   "source": [
    "\n",
    "\n",
    "# Drop the 'stoptime' row that is contained within our group\n",
    "#gender_trips = gender_trips.drop(gender_trips.index[3])\n",
    "\n",
    "# Chart our data, give it a title, and label the axes\n",
    "#home_chart = home_trips.plot(kind=\"line\", title=\"Commute Time Home\", rot = 35)\n",
    "#home_chart.set_xlabel(\"Day of the Week\")\n",
    "#home_chart.set_ylabel(\"Amount of Time Spent in Commute\")\n",
    "\n",
    "#multiple\n",
    "plt.plot(home_trips.index, home_trips.values,  marker='o', markerfacecolor='blue', markersize=12, color='red', linewidth=4)\n",
    "#plt.plot(home_trips.index, home_trips2.values,  marker='o', markerfacecolor='blue', markersize=12, color='skyblue', linewidth=4)\n",
    "#plt.plot(home_trips3.index, home_trips3.values,  marker='^', markerfacecolor='blue', markersize=12, color='red', linewidth=4)\n",
    "\n",
    "# Create a bar chart based upon the above data\n",
    "plt.show()"
   ]
  },
  {
   "cell_type": "code",
   "execution_count": 22,
   "metadata": {},
   "outputs": [],
   "source": [
    "# Save Data to csv\n",
    "commute_to_work_df.to_csv('commute_to_work.csv')\n",
    "commute_to_home_df.to_csv('commute_to_home.csv')\n",
    "# Visualize to confirm commute time data appears"
   ]
  },
  {
   "cell_type": "code",
   "execution_count": 23,
   "metadata": {},
   "outputs": [],
   "source": [
    "# Going to work...\n",
    "# Create 7 bar charts, one for each day of week, with start times we have stored as x-axis \n",
    "# and commute time in minutes as y-axis"
   ]
  },
  {
   "cell_type": "code",
   "execution_count": 24,
   "metadata": {},
   "outputs": [],
   "source": [
    "# Going Home...\n",
    "# Create 7 bar charts, one for each day of week, with start times we have stored as x-axis \n",
    "# and commute time in minutes as y-axis"
   ]
  }
 ],
 "metadata": {
  "anaconda-cloud": {},
  "kernelspec": {
   "display_name": "Python 3",
   "language": "python",
   "name": "python3"
  },
  "language_info": {
   "codemirror_mode": {
    "name": "ipython",
    "version": 3
   },
   "file_extension": ".py",
   "mimetype": "text/x-python",
   "name": "python",
   "nbconvert_exporter": "python",
   "pygments_lexer": "ipython3",
   "version": "3.7.4"
  }
 },
 "nbformat": 4,
 "nbformat_minor": 1
}
