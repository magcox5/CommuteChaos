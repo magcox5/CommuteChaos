{
 "cells": [
  {
   "cell_type": "code",
   "execution_count": 1,
   "metadata": {},
   "outputs": [],
   "source": [
    "%matplotlib inline"
   ]
  },
  {
   "cell_type": "code",
   "execution_count": 2,
   "metadata": {},
   "outputs": [],
   "source": [
    "# Dependencies\n",
    "import pandas as pd\n",
    "import numpy as np\n",
    "import requests\n",
    "import json\n",
    "import time\n",
    "import matplotlib.pyplot as plt\n",
    "# Google API Key\n",
    "from config import gkey"
   ]
  },
  {
   "cell_type": "code",
   "execution_count": 3,
   "metadata": {},
   "outputs": [],
   "source": [
    "# Create a list of times to find commute duration for\n",
    "times_list_to_work = [5,6,7,8,9,10,11,12]\n",
    "times_list_to_home = [13,14,15,16,17,18,19]\n",
    "dates_list = ['3/2/2020','3/3/2020','3/4/2020','3/5/2020','3/6/2020','3/7/2020','3/8/2020']\n",
    "home_location = 'Moffett Field'\n",
    "work_location = 'Salesforce Tower'"
   ]
  },
  {
   "cell_type": "code",
   "execution_count": 4,
   "metadata": {},
   "outputs": [],
   "source": [
    "# create a new list with combined dates/times into epoch time to be used to query database\n",
    "pattern = '%m/%d/%Y-%H'\n",
    "date_string = ''\n",
    "datetime_list_to_work = []\n",
    "datetime_list_to_home = []\n",
    "times_df = pd.DataFrame(columns=[\"Commute Date\", \"Commute Start\", \"Epoch Time\"])\n",
    "\n",
    "for date_in in dates_list:\n",
    "    \n",
    "    for time_in in times_list_to_work:\n",
    "        date_string = date_in + '-' + str(time_in)\n",
    "        epoch = int(time.mktime(time.strptime(date_string, pattern)))\n",
    "        datetime_list_to_work.append(epoch)\n",
    "        times_df = times_df.append({\n",
    "             \"Commute Date\": date_in,\n",
    "             \"Commute Start\": time_in,\n",
    "             \"Epoch Time\": epoch\n",
    "          }, ignore_index=True)\n",
    "        \n",
    "    for time_in in times_list_to_home:\n",
    "        date_string = date_in + '-' + str(time_in)\n",
    "        epoch = int(time.mktime(time.strptime(date_string, pattern)))\n",
    "        datetime_list_to_home.append(epoch)\n",
    "        times_df = times_df.append({\n",
    "             \"Commute Date\": date_in,\n",
    "             \"Commute Start\": time_in,\n",
    "             \"Epoch Time\": epoch\n",
    "          }, ignore_index=True)"
   ]
  },
  {
   "cell_type": "code",
   "execution_count": 5,
   "metadata": {},
   "outputs": [
    {
     "name": "stdout",
     "output_type": "stream",
     "text": [
      "[1583154000, 1583157600, 1583161200, 1583164800, 1583168400, 1583172000, 1583175600, 1583179200, 1583240400, 1583244000, 1583247600, 1583251200, 1583254800, 1583258400, 1583262000, 1583265600, 1583326800, 1583330400, 1583334000, 1583337600, 1583341200, 1583344800, 1583348400, 1583352000, 1583413200, 1583416800, 1583420400, 1583424000, 1583427600, 1583431200, 1583434800, 1583438400, 1583499600, 1583503200, 1583506800, 1583510400, 1583514000, 1583517600, 1583521200, 1583524800, 1583586000, 1583589600, 1583593200, 1583596800, 1583600400, 1583604000, 1583607600, 1583611200, 1583668800, 1583672400, 1583676000, 1583679600, 1583683200, 1583686800, 1583690400, 1583694000]\n",
      "[1583182800, 1583186400, 1583190000, 1583193600, 1583197200, 1583200800, 1583204400, 1583269200, 1583272800, 1583276400, 1583280000, 1583283600, 1583287200, 1583290800, 1583355600, 1583359200, 1583362800, 1583366400, 1583370000, 1583373600, 1583377200, 1583442000, 1583445600, 1583449200, 1583452800, 1583456400, 1583460000, 1583463600, 1583528400, 1583532000, 1583535600, 1583539200, 1583542800, 1583546400, 1583550000, 1583614800, 1583618400, 1583622000, 1583625600, 1583629200, 1583632800, 1583636400, 1583697600, 1583701200, 1583704800, 1583708400, 1583712000, 1583715600, 1583719200]\n"
     ]
    },
    {
     "data": {
      "text/html": [
       "<div>\n",
       "<style scoped>\n",
       "    .dataframe tbody tr th:only-of-type {\n",
       "        vertical-align: middle;\n",
       "    }\n",
       "\n",
       "    .dataframe tbody tr th {\n",
       "        vertical-align: top;\n",
       "    }\n",
       "\n",
       "    .dataframe thead th {\n",
       "        text-align: right;\n",
       "    }\n",
       "</style>\n",
       "<table border=\"1\" class=\"dataframe\">\n",
       "  <thead>\n",
       "    <tr style=\"text-align: right;\">\n",
       "      <th></th>\n",
       "      <th>Commute Date</th>\n",
       "      <th>Commute Start</th>\n",
       "      <th>Epoch Time</th>\n",
       "    </tr>\n",
       "  </thead>\n",
       "  <tbody>\n",
       "    <tr>\n",
       "      <th>0</th>\n",
       "      <td>3/2/2020</td>\n",
       "      <td>5</td>\n",
       "      <td>1583154000</td>\n",
       "    </tr>\n",
       "    <tr>\n",
       "      <th>1</th>\n",
       "      <td>3/2/2020</td>\n",
       "      <td>6</td>\n",
       "      <td>1583157600</td>\n",
       "    </tr>\n",
       "    <tr>\n",
       "      <th>2</th>\n",
       "      <td>3/2/2020</td>\n",
       "      <td>7</td>\n",
       "      <td>1583161200</td>\n",
       "    </tr>\n",
       "    <tr>\n",
       "      <th>3</th>\n",
       "      <td>3/2/2020</td>\n",
       "      <td>8</td>\n",
       "      <td>1583164800</td>\n",
       "    </tr>\n",
       "    <tr>\n",
       "      <th>4</th>\n",
       "      <td>3/2/2020</td>\n",
       "      <td>9</td>\n",
       "      <td>1583168400</td>\n",
       "    </tr>\n",
       "  </tbody>\n",
       "</table>\n",
       "</div>"
      ],
      "text/plain": [
       "  Commute Date Commute Start  Epoch Time\n",
       "0     3/2/2020             5  1583154000\n",
       "1     3/2/2020             6  1583157600\n",
       "2     3/2/2020             7  1583161200\n",
       "3     3/2/2020             8  1583164800\n",
       "4     3/2/2020             9  1583168400"
      ]
     },
     "execution_count": 5,
     "metadata": {},
     "output_type": "execute_result"
    }
   ],
   "source": [
    "print(datetime_list_to_work)\n",
    "print(datetime_list_to_home)\n",
    "times_df.head()"
   ]
  },
  {
   "cell_type": "code",
   "execution_count": 6,
   "metadata": {},
   "outputs": [],
   "source": [
    "def get_commute_times(start_point, end_point, datetime_list):\n",
    "    # Base info for google maps direction request\n",
    "    # create a params dict that will be updated for each date/time\n",
    "    params = {\"key\": gkey}\n",
    "    base_url = \"https://maps.googleapis.com/maps/api/directions/json\"\n",
    "    params['mode'] = 'driving'\n",
    "    params['origin'] = start_point\n",
    "    params['destination'] = end_point\n",
    "\n",
    "    # Create dictionary to store {date_time: commute_time}\n",
    "    commute_dict = {}\n",
    "    \n",
    "    # Loop through the date/times to get the period you are going to search for\n",
    "    for commute_start in datetime_list:\n",
    "\n",
    "        # update address key value\n",
    "        params['departure_time'] = commute_start\n",
    "\n",
    "        # make request\n",
    "        commute_info = requests.get(base_url, params=params)\n",
    "    \n",
    "        # convert to json\n",
    "        commute_info = commute_info.json()\n",
    "    \n",
    "        commute_time_legs = commute_info['routes'][0]['legs']\n",
    "        total_route_time = 0\n",
    "        for c_time in commute_time_legs:\n",
    "            total_route_time = total_route_time + c_time['duration_in_traffic']['value']\n",
    "\n",
    "        commute_dict[commute_start] = total_route_time\n",
    "        time_here = time.strftime('%Y-%m-%d %H:%M:%S', time.localtime(commute_start))\n",
    "        # print(f\"Commute duration from {start_point} to {end_point} for {time_here} = {total_route_time/60} minutes\")\n",
    "\n",
    "        \n",
    "    return commute_dict\n",
    "    "
   ]
  },
  {
   "cell_type": "code",
   "execution_count": 7,
   "metadata": {},
   "outputs": [],
   "source": [
    "# Get commute times for going to work\n",
    "commute_to_work_dict = get_commute_times(home_location, work_location, datetime_list_to_work)"
   ]
  },
  {
   "cell_type": "code",
   "execution_count": 8,
   "metadata": {},
   "outputs": [
    {
     "data": {
      "text/html": [
       "<div>\n",
       "<style scoped>\n",
       "    .dataframe tbody tr th:only-of-type {\n",
       "        vertical-align: middle;\n",
       "    }\n",
       "\n",
       "    .dataframe tbody tr th {\n",
       "        vertical-align: top;\n",
       "    }\n",
       "\n",
       "    .dataframe thead th {\n",
       "        text-align: right;\n",
       "    }\n",
       "</style>\n",
       "<table border=\"1\" class=\"dataframe\">\n",
       "  <thead>\n",
       "    <tr style=\"text-align: right;\">\n",
       "      <th></th>\n",
       "      <th>Commute Time</th>\n",
       "    </tr>\n",
       "    <tr>\n",
       "      <th>Epoch Time</th>\n",
       "      <th></th>\n",
       "    </tr>\n",
       "  </thead>\n",
       "  <tbody>\n",
       "    <tr>\n",
       "      <th>1583154000</th>\n",
       "      <td>2505</td>\n",
       "    </tr>\n",
       "    <tr>\n",
       "      <th>1583157600</th>\n",
       "      <td>2773</td>\n",
       "    </tr>\n",
       "    <tr>\n",
       "      <th>1583161200</th>\n",
       "      <td>3870</td>\n",
       "    </tr>\n",
       "    <tr>\n",
       "      <th>1583164800</th>\n",
       "      <td>4416</td>\n",
       "    </tr>\n",
       "    <tr>\n",
       "      <th>1583168400</th>\n",
       "      <td>3781</td>\n",
       "    </tr>\n",
       "  </tbody>\n",
       "</table>\n",
       "</div>"
      ],
      "text/plain": [
       "            Commute Time\n",
       "Epoch Time              \n",
       "1583154000          2505\n",
       "1583157600          2773\n",
       "1583161200          3870\n",
       "1583164800          4416\n",
       "1583168400          3781"
      ]
     },
     "execution_count": 8,
     "metadata": {},
     "output_type": "execute_result"
    }
   ],
   "source": [
    "# Create dataframe to store commute data\n",
    "commute_to_work_df = pd.DataFrame.from_dict(commute_to_work_dict, orient='index', columns=['Commute Time'])\n",
    "commute_to_work_df.index.name = 'Epoch Time'\n",
    "commute_to_work_df.head()"
   ]
  },
  {
   "cell_type": "code",
   "execution_count": 9,
   "metadata": {
    "scrolled": true
   },
   "outputs": [],
   "source": [
    "# Get commute times for going home\n",
    "commute_to_home_dict = get_commute_times(work_location, home_location, datetime_list_to_home)"
   ]
  },
  {
   "cell_type": "code",
   "execution_count": 10,
   "metadata": {
    "scrolled": false
   },
   "outputs": [
    {
     "data": {
      "text/html": [
       "<div>\n",
       "<style scoped>\n",
       "    .dataframe tbody tr th:only-of-type {\n",
       "        vertical-align: middle;\n",
       "    }\n",
       "\n",
       "    .dataframe tbody tr th {\n",
       "        vertical-align: top;\n",
       "    }\n",
       "\n",
       "    .dataframe thead th {\n",
       "        text-align: right;\n",
       "    }\n",
       "</style>\n",
       "<table border=\"1\" class=\"dataframe\">\n",
       "  <thead>\n",
       "    <tr style=\"text-align: right;\">\n",
       "      <th></th>\n",
       "      <th>Commute Time</th>\n",
       "    </tr>\n",
       "    <tr>\n",
       "      <th>Epoch Time</th>\n",
       "      <th></th>\n",
       "    </tr>\n",
       "  </thead>\n",
       "  <tbody>\n",
       "    <tr>\n",
       "      <th>1583182800</th>\n",
       "      <td>2902</td>\n",
       "    </tr>\n",
       "    <tr>\n",
       "      <th>1583186400</th>\n",
       "      <td>3194</td>\n",
       "    </tr>\n",
       "    <tr>\n",
       "      <th>1583190000</th>\n",
       "      <td>3530</td>\n",
       "    </tr>\n",
       "    <tr>\n",
       "      <th>1583193600</th>\n",
       "      <td>3671</td>\n",
       "    </tr>\n",
       "    <tr>\n",
       "      <th>1583197200</th>\n",
       "      <td>4039</td>\n",
       "    </tr>\n",
       "  </tbody>\n",
       "</table>\n",
       "</div>"
      ],
      "text/plain": [
       "            Commute Time\n",
       "Epoch Time              \n",
       "1583182800          2902\n",
       "1583186400          3194\n",
       "1583190000          3530\n",
       "1583193600          3671\n",
       "1583197200          4039"
      ]
     },
     "execution_count": 10,
     "metadata": {},
     "output_type": "execute_result"
    }
   ],
   "source": [
    "# Create dataframe to store commute data\n",
    "commute_to_home_df = pd.DataFrame.from_dict(commute_to_home_dict, orient='index', columns=['Commute Time'])\n",
    "commute_to_home_df.index.name = 'Epoch Time'\n",
    "commute_to_home_df.head()"
   ]
  },
  {
   "cell_type": "code",
   "execution_count": 11,
   "metadata": {
    "scrolled": false
   },
   "outputs": [
    {
     "data": {
      "text/html": [
       "<div>\n",
       "<style scoped>\n",
       "    .dataframe tbody tr th:only-of-type {\n",
       "        vertical-align: middle;\n",
       "    }\n",
       "\n",
       "    .dataframe tbody tr th {\n",
       "        vertical-align: top;\n",
       "    }\n",
       "\n",
       "    .dataframe thead th {\n",
       "        text-align: right;\n",
       "    }\n",
       "</style>\n",
       "<table border=\"1\" class=\"dataframe\">\n",
       "  <thead>\n",
       "    <tr style=\"text-align: right;\">\n",
       "      <th></th>\n",
       "      <th>Epoch Time</th>\n",
       "      <th>Commute Time</th>\n",
       "      <th>Commute Date</th>\n",
       "      <th>Commute Start</th>\n",
       "    </tr>\n",
       "  </thead>\n",
       "  <tbody>\n",
       "    <tr>\n",
       "      <th>0</th>\n",
       "      <td>1583154000</td>\n",
       "      <td>2505</td>\n",
       "      <td>3/2/2020</td>\n",
       "      <td>5</td>\n",
       "    </tr>\n",
       "    <tr>\n",
       "      <th>1</th>\n",
       "      <td>1583157600</td>\n",
       "      <td>2773</td>\n",
       "      <td>3/2/2020</td>\n",
       "      <td>6</td>\n",
       "    </tr>\n",
       "    <tr>\n",
       "      <th>2</th>\n",
       "      <td>1583161200</td>\n",
       "      <td>3870</td>\n",
       "      <td>3/2/2020</td>\n",
       "      <td>7</td>\n",
       "    </tr>\n",
       "    <tr>\n",
       "      <th>3</th>\n",
       "      <td>1583164800</td>\n",
       "      <td>4416</td>\n",
       "      <td>3/2/2020</td>\n",
       "      <td>8</td>\n",
       "    </tr>\n",
       "    <tr>\n",
       "      <th>4</th>\n",
       "      <td>1583168400</td>\n",
       "      <td>3781</td>\n",
       "      <td>3/2/2020</td>\n",
       "      <td>9</td>\n",
       "    </tr>\n",
       "  </tbody>\n",
       "</table>\n",
       "</div>"
      ],
      "text/plain": [
       "   Epoch Time  Commute Time Commute Date Commute Start\n",
       "0  1583154000          2505     3/2/2020             5\n",
       "1  1583157600          2773     3/2/2020             6\n",
       "2  1583161200          3870     3/2/2020             7\n",
       "3  1583164800          4416     3/2/2020             8\n",
       "4  1583168400          3781     3/2/2020             9"
      ]
     },
     "execution_count": 11,
     "metadata": {},
     "output_type": "execute_result"
    }
   ],
   "source": [
    "commute_to_work_df = pd.merge(commute_to_work_df,\n",
    "                 times_df[['Commute Date', 'Commute Start', 'Epoch Time']],\n",
    "                 on='Epoch Time')\n",
    "commute_to_work_df.head()"
   ]
  },
  {
   "cell_type": "code",
   "execution_count": 12,
   "metadata": {},
   "outputs": [
    {
     "data": {
      "text/html": [
       "<div>\n",
       "<style scoped>\n",
       "    .dataframe tbody tr th:only-of-type {\n",
       "        vertical-align: middle;\n",
       "    }\n",
       "\n",
       "    .dataframe tbody tr th {\n",
       "        vertical-align: top;\n",
       "    }\n",
       "\n",
       "    .dataframe thead th {\n",
       "        text-align: right;\n",
       "    }\n",
       "</style>\n",
       "<table border=\"1\" class=\"dataframe\">\n",
       "  <thead>\n",
       "    <tr style=\"text-align: right;\">\n",
       "      <th></th>\n",
       "      <th>Epoch Time</th>\n",
       "      <th>Commute Time</th>\n",
       "      <th>Commute Date</th>\n",
       "      <th>Commute Start</th>\n",
       "    </tr>\n",
       "  </thead>\n",
       "  <tbody>\n",
       "    <tr>\n",
       "      <th>0</th>\n",
       "      <td>1583182800</td>\n",
       "      <td>2902</td>\n",
       "      <td>3/2/2020</td>\n",
       "      <td>13</td>\n",
       "    </tr>\n",
       "    <tr>\n",
       "      <th>1</th>\n",
       "      <td>1583186400</td>\n",
       "      <td>3194</td>\n",
       "      <td>3/2/2020</td>\n",
       "      <td>14</td>\n",
       "    </tr>\n",
       "    <tr>\n",
       "      <th>2</th>\n",
       "      <td>1583190000</td>\n",
       "      <td>3530</td>\n",
       "      <td>3/2/2020</td>\n",
       "      <td>15</td>\n",
       "    </tr>\n",
       "    <tr>\n",
       "      <th>3</th>\n",
       "      <td>1583193600</td>\n",
       "      <td>3671</td>\n",
       "      <td>3/2/2020</td>\n",
       "      <td>16</td>\n",
       "    </tr>\n",
       "    <tr>\n",
       "      <th>4</th>\n",
       "      <td>1583197200</td>\n",
       "      <td>4039</td>\n",
       "      <td>3/2/2020</td>\n",
       "      <td>17</td>\n",
       "    </tr>\n",
       "  </tbody>\n",
       "</table>\n",
       "</div>"
      ],
      "text/plain": [
       "   Epoch Time  Commute Time Commute Date Commute Start\n",
       "0  1583182800          2902     3/2/2020            13\n",
       "1  1583186400          3194     3/2/2020            14\n",
       "2  1583190000          3530     3/2/2020            15\n",
       "3  1583193600          3671     3/2/2020            16\n",
       "4  1583197200          4039     3/2/2020            17"
      ]
     },
     "execution_count": 12,
     "metadata": {},
     "output_type": "execute_result"
    }
   ],
   "source": [
    "commute_to_home_df = pd.merge(commute_to_home_df,\n",
    "                 times_df[['Commute Date', 'Commute Start', 'Epoch Time']],\n",
    "                 on='Epoch Time')\n",
    "commute_to_home_df.head()"
   ]
  },
  {
   "cell_type": "code",
   "execution_count": 13,
   "metadata": {},
   "outputs": [
    {
     "data": {
      "text/html": [
       "<div>\n",
       "<style scoped>\n",
       "    .dataframe tbody tr th:only-of-type {\n",
       "        vertical-align: middle;\n",
       "    }\n",
       "\n",
       "    .dataframe tbody tr th {\n",
       "        vertical-align: top;\n",
       "    }\n",
       "\n",
       "    .dataframe thead th {\n",
       "        text-align: right;\n",
       "    }\n",
       "</style>\n",
       "<table border=\"1\" class=\"dataframe\">\n",
       "  <thead>\n",
       "    <tr style=\"text-align: right;\">\n",
       "      <th></th>\n",
       "      <th>Epoch Time</th>\n",
       "      <th>Commute Time</th>\n",
       "      <th>Commute Date</th>\n",
       "      <th>Commute Start</th>\n",
       "      <th>Commute Name</th>\n",
       "    </tr>\n",
       "  </thead>\n",
       "  <tbody>\n",
       "    <tr>\n",
       "      <th>0</th>\n",
       "      <td>1583154000</td>\n",
       "      <td>2505</td>\n",
       "      <td>3/2/2020</td>\n",
       "      <td>5</td>\n",
       "      <td>Moffett Field to Salesforce Tower</td>\n",
       "    </tr>\n",
       "    <tr>\n",
       "      <th>1</th>\n",
       "      <td>1583157600</td>\n",
       "      <td>2773</td>\n",
       "      <td>3/2/2020</td>\n",
       "      <td>6</td>\n",
       "      <td>Moffett Field to Salesforce Tower</td>\n",
       "    </tr>\n",
       "    <tr>\n",
       "      <th>2</th>\n",
       "      <td>1583161200</td>\n",
       "      <td>3870</td>\n",
       "      <td>3/2/2020</td>\n",
       "      <td>7</td>\n",
       "      <td>Moffett Field to Salesforce Tower</td>\n",
       "    </tr>\n",
       "    <tr>\n",
       "      <th>3</th>\n",
       "      <td>1583164800</td>\n",
       "      <td>4416</td>\n",
       "      <td>3/2/2020</td>\n",
       "      <td>8</td>\n",
       "      <td>Moffett Field to Salesforce Tower</td>\n",
       "    </tr>\n",
       "    <tr>\n",
       "      <th>4</th>\n",
       "      <td>1583168400</td>\n",
       "      <td>3781</td>\n",
       "      <td>3/2/2020</td>\n",
       "      <td>9</td>\n",
       "      <td>Moffett Field to Salesforce Tower</td>\n",
       "    </tr>\n",
       "  </tbody>\n",
       "</table>\n",
       "</div>"
      ],
      "text/plain": [
       "   Epoch Time  Commute Time Commute Date Commute Start  \\\n",
       "0  1583154000          2505     3/2/2020             5   \n",
       "1  1583157600          2773     3/2/2020             6   \n",
       "2  1583161200          3870     3/2/2020             7   \n",
       "3  1583164800          4416     3/2/2020             8   \n",
       "4  1583168400          3781     3/2/2020             9   \n",
       "\n",
       "                        Commute Name  \n",
       "0  Moffett Field to Salesforce Tower  \n",
       "1  Moffett Field to Salesforce Tower  \n",
       "2  Moffett Field to Salesforce Tower  \n",
       "3  Moffett Field to Salesforce Tower  \n",
       "4  Moffett Field to Salesforce Tower  "
      ]
     },
     "execution_count": 13,
     "metadata": {},
     "output_type": "execute_result"
    }
   ],
   "source": [
    "# Add Commute To/From info as a column\n",
    "commute_to_work_df['Commute Name'] = f\"{home_location } to {work_location}\"\n",
    "commute_to_work_df.head()"
   ]
  },
  {
   "cell_type": "code",
   "execution_count": 14,
   "metadata": {},
   "outputs": [
    {
     "data": {
      "text/html": [
       "<div>\n",
       "<style scoped>\n",
       "    .dataframe tbody tr th:only-of-type {\n",
       "        vertical-align: middle;\n",
       "    }\n",
       "\n",
       "    .dataframe tbody tr th {\n",
       "        vertical-align: top;\n",
       "    }\n",
       "\n",
       "    .dataframe thead th {\n",
       "        text-align: right;\n",
       "    }\n",
       "</style>\n",
       "<table border=\"1\" class=\"dataframe\">\n",
       "  <thead>\n",
       "    <tr style=\"text-align: right;\">\n",
       "      <th></th>\n",
       "      <th>Epoch Time</th>\n",
       "      <th>Commute Time</th>\n",
       "      <th>Commute Date</th>\n",
       "      <th>Commute Start</th>\n",
       "      <th>Commute Name</th>\n",
       "    </tr>\n",
       "  </thead>\n",
       "  <tbody>\n",
       "    <tr>\n",
       "      <th>0</th>\n",
       "      <td>1583182800</td>\n",
       "      <td>2902</td>\n",
       "      <td>3/2/2020</td>\n",
       "      <td>13</td>\n",
       "      <td>Salesforce Tower to Moffett Field</td>\n",
       "    </tr>\n",
       "    <tr>\n",
       "      <th>1</th>\n",
       "      <td>1583186400</td>\n",
       "      <td>3194</td>\n",
       "      <td>3/2/2020</td>\n",
       "      <td>14</td>\n",
       "      <td>Salesforce Tower to Moffett Field</td>\n",
       "    </tr>\n",
       "    <tr>\n",
       "      <th>2</th>\n",
       "      <td>1583190000</td>\n",
       "      <td>3530</td>\n",
       "      <td>3/2/2020</td>\n",
       "      <td>15</td>\n",
       "      <td>Salesforce Tower to Moffett Field</td>\n",
       "    </tr>\n",
       "    <tr>\n",
       "      <th>3</th>\n",
       "      <td>1583193600</td>\n",
       "      <td>3671</td>\n",
       "      <td>3/2/2020</td>\n",
       "      <td>16</td>\n",
       "      <td>Salesforce Tower to Moffett Field</td>\n",
       "    </tr>\n",
       "    <tr>\n",
       "      <th>4</th>\n",
       "      <td>1583197200</td>\n",
       "      <td>4039</td>\n",
       "      <td>3/2/2020</td>\n",
       "      <td>17</td>\n",
       "      <td>Salesforce Tower to Moffett Field</td>\n",
       "    </tr>\n",
       "  </tbody>\n",
       "</table>\n",
       "</div>"
      ],
      "text/plain": [
       "   Epoch Time  Commute Time Commute Date Commute Start  \\\n",
       "0  1583182800          2902     3/2/2020            13   \n",
       "1  1583186400          3194     3/2/2020            14   \n",
       "2  1583190000          3530     3/2/2020            15   \n",
       "3  1583193600          3671     3/2/2020            16   \n",
       "4  1583197200          4039     3/2/2020            17   \n",
       "\n",
       "                        Commute Name  \n",
       "0  Salesforce Tower to Moffett Field  \n",
       "1  Salesforce Tower to Moffett Field  \n",
       "2  Salesforce Tower to Moffett Field  \n",
       "3  Salesforce Tower to Moffett Field  \n",
       "4  Salesforce Tower to Moffett Field  "
      ]
     },
     "execution_count": 14,
     "metadata": {},
     "output_type": "execute_result"
    }
   ],
   "source": [
    "commute_to_home_df['Commute Name'] = f\"{work_location} to {home_location}\"\n",
    "commute_to_home_df.head()"
   ]
  },
  {
   "cell_type": "code",
   "execution_count": 15,
   "metadata": {
    "scrolled": false
   },
   "outputs": [],
   "source": [
    "# Save Data to csv\n",
    "commute_to_work_df.to_csv('commute_to_work.csv')\n",
    "commute_to_home_df.to_csv('commute_to_home.csv')\n",
    "# Visualize to confirm commute time data appears\n"
   ]
  },
  {
   "cell_type": "code",
   "execution_count": 16,
   "metadata": {},
   "outputs": [
    {
     "data": {
      "image/png": "[encoded data removed]",
      "text/plain": [
       "<Figure size 432x288 with 1 Axes>"
      ]
     },
     "metadata": {
      "needs_background": "light"
     },
     "output_type": "display_data"
    },
    {
     "data": {
      "image/png": "[encoded data removed]",
      "text/plain": [
       "<Figure size 432x288 with 1 Axes>"
      ]
     },
     "metadata": {
      "needs_background": "light"
     },
     "output_type": "display_data"
    },
    {
     "data": {
      "image/png": "[encoded data removed]",
      "text/plain": [
       "<Figure size 432x288 with 1 Axes>"
      ]
     },
     "metadata": {
      "needs_background": "light"
     },
     "output_type": "display_data"
    },
    {
     "data": {
      "image/png": "[encoded data removed]",
      "text/plain": [
       "<Figure size 432x288 with 1 Axes>"
      ]
     },
     "metadata": {
      "needs_background": "light"
     },
     "output_type": "display_data"
    },
    {
     "data": {
      "image/png": "[encoded data removed]",
      "text/plain": [
       "<Figure size 432x288 with 1 Axes>"
      ]
     },
     "metadata": {
      "needs_background": "light"
     },
     "output_type": "display_data"
    },
    {
     "data": {
      "image/png": "[encoded data removed]",
      "text/plain": [
       "<Figure size 432x288 with 1 Axes>"
      ]
     },
     "metadata": {
      "needs_background": "light"
     },
     "output_type": "display_data"
    },
    {
     "data": {
      "image/png": "[encoded data removed]",
      "text/plain": [
       "<Figure size 432x288 with 1 Axes>"
      ]
     },
     "metadata": {
      "needs_background": "light"
     },
     "output_type": "display_data"
    }
   ],
   "source": [
    "# Going to work...\n",
    "# Create 7 bar charts, one for each day of week, with start times we have stored as x-axis \n",
    "# and commute time in minutes as y-axis\n",
    "s_times_list_to_work = [str(item) for item in times_list_to_work]\n",
    "for day in dates_list:\n",
    "    commute_to_plot_df = commute_to_work_df[commute_to_work_df['Commute Date'] == day]\n",
    "    work_trips = commute_to_plot_df['Commute Time']/60\n",
    "    work_times = work_trips.plot(kind=\"bar\", title= f\"Commute from {home_location} to {work_location}\\nfor {day}\")\n",
    "    work_times.set_xlabel(\"Commute Start Time\")\n",
    "    work_times.set_ylabel(\"Time to get to work (minutes)\")\n",
    "    work_times.set_xticklabels(s_times_list_to_work)\n",
    "    work_times.grid(b=True)\n",
    "    plt.show()"
   ]
  },
  {
   "cell_type": "code",
   "execution_count": 28,
   "metadata": {},
   "outputs": [
    {
     "name": "stdout",
     "output_type": "stream",
     "text": [
      "67\n"
     ]
    },
    {
     "ename": "AttributeError",
     "evalue": "'AxesSubplot' object has no attribute 'ylim'",
     "output_type": "error",
     "traceback": [
      "\u001b[1;31m---------------------------------------------------------------------------\u001b[0m",
      "\u001b[1;31mAttributeError\u001b[0m                            Traceback (most recent call last)",
      "\u001b[1;32m<ipython-input-28-eba7ab0c3cb5>\u001b[0m in \u001b[0;36m<module>\u001b[1;34m\u001b[0m\n\u001b[0;32m     12\u001b[0m     \u001b[0my_Max\u001b[0m \u001b[1;33m=\u001b[0m \u001b[0mround\u001b[0m\u001b[1;33m(\u001b[0m\u001b[0mcommute_to_plot_df\u001b[0m\u001b[1;33m[\u001b[0m\u001b[1;34m'Commute Time'\u001b[0m\u001b[1;33m]\u001b[0m\u001b[1;33m.\u001b[0m\u001b[0mmax\u001b[0m\u001b[1;33m(\u001b[0m\u001b[1;33m)\u001b[0m\u001b[1;33m/\u001b[0m\u001b[1;36m60\u001b[0m\u001b[1;33m)\u001b[0m\u001b[1;33m\u001b[0m\u001b[1;33m\u001b[0m\u001b[0m\n\u001b[0;32m     13\u001b[0m     \u001b[0mprint\u001b[0m\u001b[1;33m(\u001b[0m\u001b[0my_Max\u001b[0m\u001b[1;33m)\u001b[0m\u001b[1;33m\u001b[0m\u001b[1;33m\u001b[0m\u001b[0m\n\u001b[1;32m---> 14\u001b[1;33m     \u001b[0mwork_times\u001b[0m\u001b[1;33m.\u001b[0m\u001b[0mylim\u001b[0m\u001b[1;33m(\u001b[0m\u001b[1;36m0\u001b[0m\u001b[1;33m,\u001b[0m \u001b[0my_Max\u001b[0m\u001b[1;33m)\u001b[0m\u001b[1;33m\u001b[0m\u001b[1;33m\u001b[0m\u001b[0m\n\u001b[0m\u001b[0;32m     15\u001b[0m     \u001b[0mwork_times\u001b[0m\u001b[1;33m.\u001b[0m\u001b[0mgrid\u001b[0m\u001b[1;33m(\u001b[0m\u001b[0mb\u001b[0m\u001b[1;33m=\u001b[0m\u001b[1;32mTrue\u001b[0m\u001b[1;33m)\u001b[0m\u001b[1;33m\u001b[0m\u001b[1;33m\u001b[0m\u001b[0m\n\u001b[0;32m     16\u001b[0m     \u001b[0mplt\u001b[0m\u001b[1;33m.\u001b[0m\u001b[0mshow\u001b[0m\u001b[1;33m(\u001b[0m\u001b[1;33m)\u001b[0m\u001b[1;33m\u001b[0m\u001b[1;33m\u001b[0m\u001b[0m\n",
      "\u001b[1;31mAttributeError\u001b[0m: 'AxesSubplot' object has no attribute 'ylim'"
     ]
    },
    {
     "data": {
      "image/png": "[encoded data removed]",
      "text/plain": [
       "<Figure size 432x288 with 1 Axes>"
      ]
     },
     "metadata": {
      "needs_background": "light"
     },
     "output_type": "display_data"
    }
   ],
   "source": [
    "# Going Home...\n",
    "# Create 7 bar charts, one for each day of week, with start times we have stored as x-axis \n",
    "# and commute time in minutes as y-axis\n",
    "s_times_list_to_home = [str(item) for item in times_list_to_home]\n",
    "for day in dates_list:\n",
    "    commute_to_plot_df = commute_to_home_df[commute_to_home_df['Commute Date'] == day]\n",
    "    work_trips = commute_to_plot_df['Commute Time']/60\n",
    "    work_times = work_trips.plot(kind=\"bar\", title= f\"Commute from {work_location} to {home_location}\\nfor {day}\")\n",
    "    work_times.set_xlabel(\"Commute Start Time\")\n",
    "    work_times.set_ylabel(\"Time to get home (minutes)\")\n",
    "    work_times.set_xticklabels(s_times_list_to_home)\n",
    "    y_Max = round(commute_to_plot_df['Commute Time'].max()/60)\n",
    "    print(y_Max)\n",
    "    work_times.ylim(0, y_Max)\n",
    "    work_times.grid(b=True)\n",
    "    plt.show()\n"
   ]
  },
  {
   "cell_type": "code",
   "execution_count": null,
   "metadata": {},
   "outputs": [],
   "source": []
  }
 ],
 "metadata": {
  "anaconda-cloud": {},
  "kernelspec": {
   "display_name": "Python 3",
   "language": "python",
   "name": "python3"
  },
  "language_info": {
   "codemirror_mode": {
    "name": "ipython",
    "version": 3
   },
   "file_extension": ".py",
   "mimetype": "text/x-python",
   "name": "python",
   "nbconvert_exporter": "python",
   "pygments_lexer": "ipython3",
   "version": "3.7.5"
  }
 },
 "nbformat": 4,
 "nbformat_minor": 1
}
